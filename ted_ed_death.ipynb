{
 "cells": [
  {
   "cell_type": "markdown",
   "metadata": {},
   "source": [
    "# Ted Ed Riddle: Can you cheat death by solving this riddle?\n",
    "\n",
    "Solution Video, by Glitched Failure: https://youtu.be/j_M1NXK9ft8\n",
    "\n",
    "Original Riddle : https://www.youtube.com/watch?v=N3JL3z4e2Qs\n",
    "\n",
    "<img src='./Capture.PNG' width='250px'>"
   ]
  },
  {
   "cell_type": "markdown",
   "metadata": {},
   "source": [
    "- TWO players are traversing the board and must do so in 5 or fewer moves.\n",
    "- Each snake or ladder can only be used ONCE by either player."
   ]
  },
  {
   "cell_type": "code",
   "execution_count": 2,
   "metadata": {},
   "outputs": [],
   "source": [
    "SNAKE_LADDER_MAPPING = {\n",
    "    4: 75,\n",
    "    5: 15,\n",
    "    19: 41,\n",
    "    21: 3,\n",
    "    28: 50,\n",
    "    31: 8,\n",
    "    35: 96,\n",
    "    44: 82,\n",
    "    47: 30,\n",
    "    52: 23,\n",
    "    53: 94,\n",
    "    59: 95,\n",
    "    70: 91,\n",
    "    76: 41,\n",
    "    81: 62,\n",
    "    88: 67,\n",
    "    98: 12,\n",
    "}"
   ]
  },
  {
   "cell_type": "markdown",
   "metadata": {},
   "source": [
    "## Plan of attack:\n",
    "1. Iterate through all possible valid moves to get to 100 within 5 moves.\n",
    "    - Account for each snake/ladder NOT existing, too\n",
    "2. Find two paths that do NOT share the same snakes/ladders taken"
   ]
  },
  {
   "cell_type": "markdown",
   "metadata": {},
   "source": [
    "## The code I wish I had"
   ]
  },
  {
   "cell_type": "code",
   "execution_count": null,
   "metadata": {},
   "outputs": [],
   "source": [
    "queue = [init_path]\n",
    "solutions = []\n",
    "while queue and not has_two_unique_solutions(solutions):\n",
    "    path = queue.pop(0)\n",
    "    if path.done():\n",
    "        solutions.append(path)\n",
    "    else:\n",
    "        next_paths = path.create_next_paths()\n",
    "        queue.extend(next_paths)"
   ]
  },
  {
   "cell_type": "markdown",
   "metadata": {},
   "source": [
    "## `Path` class"
   ]
  },
  {
   "cell_type": "code",
   "execution_count": 33,
   "metadata": {},
   "outputs": [],
   "source": [
    "class Path:\n",
    "    MAX_MOVES = 5\n",
    "    MAX_POS = 100\n",
    "    \n",
    "    def __init__(self, s_l_map):\n",
    "        self.moves = [0] # start at 0\n",
    "        self.s_l_map = s_l_map\n",
    "        self.s_l_used = set()\n",
    "    \n",
    "    def __repr__(self):\n",
    "        return f\"Path ({'>'.join([str(num) for num in self.moves])})\"\n",
    "    \n",
    "    @classmethod\n",
    "    def from_path(self, path):\n",
    "        new_path = Path(s_l_map = path.s_l_map.copy()) # shallow dict copy\n",
    "        new_path.moves = path.moves[:] # shallow list copy\n",
    "        new_path.s_l_used = path.s_l_used.copy() # shallow set copy\n",
    "        return new_path\n",
    "    \n",
    "    def make_move(self, die_roll, new_paths):\n",
    "        prev_pos = self.moves[-1]\n",
    "        \n",
    "        new_pos = prev_pos + die_roll\n",
    "        \n",
    "        # determine true new pos\n",
    "        if new_pos in self.s_l_map: # snake/ladder position\n",
    "            new_path = Path.from_path(self)\n",
    "            alt_pos = new_path.s_l_map.pop(new_pos)\n",
    "            # We must consider 2 possibilities:\n",
    "            # A) the snake/ladder is usable\n",
    "            alt_path = Path.from_path(new_path)\n",
    "            alt_path.moves.append(alt_pos)\n",
    "            alt_path.s_l_used.add(new_pos)\n",
    "            new_paths.append(alt_path)\n",
    "            # B) the snake/ladder was already used\n",
    "            new_path.moves.append(new_pos)\n",
    "            new_paths.append(new_path)\n",
    "        else: # normal spot\n",
    "            new_pos = min(new_pos, self.MAX_POS)\n",
    "            new_path = Path.from_path(self)\n",
    "            new_path.moves.append(new_pos)\n",
    "            new_paths.append(new_path)\n",
    "    \n",
    "    def create_next_paths(self) -> list:\n",
    "        # should not make more paths if at MAX_MOVES\n",
    "        if len(self.moves) - 1 > self.MAX_MOVES: # - 1 becuase starting at 0 \n",
    "            return []\n",
    "        \n",
    "        new_paths = []\n",
    "        for die_roll in range(1,7):\n",
    "            self.make_move(die_roll, new_paths)\n",
    "        return new_paths\n",
    "    \n",
    "    def done(self):\n",
    "        return self.moves[-1] == self.MAX_POS"
   ]
  },
  {
   "cell_type": "code",
   "execution_count": 40,
   "metadata": {},
   "outputs": [],
   "source": [
    "def has_two_unique_solutions(solutions):\n",
    "    '''Return True if any two solutions do NOT share same snake/ladders used'''\n",
    "    n = len(solutions)\n",
    "    if n < 2:\n",
    "        return False\n",
    "    \n",
    "    for first_i in range(n):\n",
    "        for second_i in range(first_i + 1, n):\n",
    "            first_set = solutions[first_i].s_l_used\n",
    "            second_set = solutions[second_i].s_l_used\n",
    "            if len(first_set) + len(second_set) == len(first_set | second_set): # sets do NOT share any values => no overlap!\n",
    "                print('Found solution paths!')\n",
    "                print(solutions[first_i])\n",
    "                print(solutions[second_i])\n",
    "                return True\n",
    "    return False"
   ]
  },
  {
   "cell_type": "code",
   "execution_count": 41,
   "metadata": {},
   "outputs": [
    {
     "name": "stdout",
     "output_type": "stream",
     "text": [
      "Found solution paths!\n",
      "Path (0>75>41>47>94>100)\n",
      "Path (0>15>41>30>96>100)\n"
     ]
    }
   ],
   "source": [
    "queue = [init_path]\n",
    "solutions = []\n",
    "while queue and not has_two_unique_solutions(solutions):\n",
    "    path = queue.pop(0)\n",
    "    if path.done():\n",
    "        solutions.append(path)\n",
    "    else:\n",
    "        next_paths = path.create_next_paths()\n",
    "        queue.extend(next_paths)"
   ]
  },
  {
   "cell_type": "markdown",
   "metadata": {},
   "source": [
    "<img src='./Capture.PNG' width='250px'>"
   ]
  }
 ],
 "metadata": {
  "kernelspec": {
   "display_name": "Python 3",
   "language": "python",
   "name": "python3"
  },
  "language_info": {
   "codemirror_mode": {
    "name": "ipython",
    "version": 3
   },
   "file_extension": ".py",
   "mimetype": "text/x-python",
   "name": "python",
   "nbconvert_exporter": "python",
   "pygments_lexer": "ipython3",
   "version": "3.8.5"
  }
 },
 "nbformat": 4,
 "nbformat_minor": 4
}
